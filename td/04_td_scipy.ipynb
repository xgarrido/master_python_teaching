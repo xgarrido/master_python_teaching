{
 "cells": [
  {
   "cell_type": "code",
   "execution_count": 1,
   "metadata": {
    "tags": [
     "skip"
    ]
   },
   "outputs": [],
   "source": [
    "import matplotlib.pyplot as plt\n",
    "\n",
    "plt.rcParams[\"figure.figsize\"] = (8, 6)"
   ]
  },
  {
   "cell_type": "markdown",
   "metadata": {},
   "source": [
    "# Librairie `scipy`"
   ]
  },
  {
   "cell_type": "markdown",
   "metadata": {},
   "source": [
    "<div class=\"alert alert-block alert-danger\">\n",
    "    Si vous utilisez ce notebook via mybinder, pensez à télécharger votre fichier à la fin de la séance afin de conserver une trace de votre travail !\n",
    "</div>"
   ]
  },
  {
   "cell_type": "markdown",
   "metadata": {},
   "source": [
    "## Higgs en $\\gamma\\gamma$\n",
    "\n",
    "Le 4 juillet 2012, les expériences ATLAS et CMS, menées au Grand collisionneur de hadrons (LHC), ont annoncé qu’elles avaient toutes deux observé une nouvelle particule dont la masse se situait dans la région des 126 GeV. Cette particule présente des caractéristiques compatibles avec celles du boson de Higgs prédit par le Modèle standard. Le boson de Higgs, tel que le décrit ce modèle, est la manifestation la plus simple du mécanisme de Brout-Englert-Higgs qui permet, notamment, d'expliquer théoriquement la masse des particules élémentaires.\n",
    "\n",
    "Le 8 octobre 2013, le prix Nobel de physique a été attribué conjointement à François Englert et à Peter Higgs « pour la découverte théorique d’un mécanisme contribuant à notre compréhension de l’origine de la masse des particules subatomiques, une théorie qui s’est confirmée récemment, lorsque les expériences ATLAS et CMS, menées au Grand collisionneur de hadrons du CERN, ont découvert la particule prédite. »\n",
    "\n",
    "Pour détecter le boson de Higgs, les physiciens des expériences ATLAS et CMS étudient notamment la désintégration de cette particule en une paire de photons $\\gamma$. On peut alors mesurer le nombre d'événements comprenant uniquement deux photons et le comparer à un modèle dans lequel le boson de Higgs n'existe pas. Une différence significative entre données et modèle signe alors l'existence d'une nouvelle particule.\n",
    "\n",
    "Les données [`higgs-gg.csv`](https://raw.githubusercontent.com/xgarrido/master_python_teaching/master/td/data/higgs-gg.csv) représentent les résultats obtenus par l'expérience ATLAS au cours des années 2011/2012. Dans ce fichier, figure en première colonne l'énergie des deux photons exprimée en GeV, le nombre de paire di-photons observées en deuxième colonne et l'incertitude sur ce nombre en troisième colonne. Dans cet exercice, on cherche à reproduire la figure ci-dessous publiée dans [*Phys. Rev. Letter B716* (2012)](https://arxiv.org/abs/1207.7214) et annonçant la découverte d'une nouvelle particule.\n",
    "\n",
    "<center><img width=\"50%\" src=\"https://raw.githubusercontent.com/xgarrido/master_python_teaching/master/td/figures/higgs_gg.png\"/></center>"
   ]
  },
  {
   "cell_type": "markdown",
   "metadata": {},
   "source": [
    "- Représenter le nombre d'événements di-photons en fonction de l'énergie. On n'oubliera pas d'intituler les axes de cette figure afin d'y faire figurer toute information pertinente."
   ]
  },
  {
   "cell_type": "code",
   "execution_count": 1,
   "metadata": {
    "tags": [
     "correction"
    ]
   },
   "outputs": [
    {
     "data": {
      "text/html": [
       "<div>\n",
       "<style scoped>\n",
       "    .dataframe tbody tr th:only-of-type {\n",
       "        vertical-align: middle;\n",
       "    }\n",
       "\n",
       "    .dataframe tbody tr th {\n",
       "        vertical-align: top;\n",
       "    }\n",
       "\n",
       "    .dataframe thead th {\n",
       "        text-align: right;\n",
       "    }\n",
       "</style>\n",
       "<table border=\"1\" class=\"dataframe\">\n",
       "  <thead>\n",
       "    <tr style=\"text-align: right;\">\n",
       "      <th></th>\n",
       "      <th>energy</th>\n",
       "      <th>events</th>\n",
       "      <th>sigma</th>\n",
       "    </tr>\n",
       "  </thead>\n",
       "  <tbody>\n",
       "    <tr>\n",
       "      <th>0</th>\n",
       "      <td>105.0</td>\n",
       "      <td>4017.0</td>\n",
       "      <td>63.379808</td>\n",
       "    </tr>\n",
       "    <tr>\n",
       "      <th>1</th>\n",
       "      <td>106.0</td>\n",
       "      <td>3763.0</td>\n",
       "      <td>61.343296</td>\n",
       "    </tr>\n",
       "    <tr>\n",
       "      <th>2</th>\n",
       "      <td>107.0</td>\n",
       "      <td>3534.0</td>\n",
       "      <td>59.447456</td>\n",
       "    </tr>\n",
       "    <tr>\n",
       "      <th>3</th>\n",
       "      <td>108.0</td>\n",
       "      <td>3531.0</td>\n",
       "      <td>59.422218</td>\n",
       "    </tr>\n",
       "    <tr>\n",
       "      <th>4</th>\n",
       "      <td>109.0</td>\n",
       "      <td>3294.0</td>\n",
       "      <td>57.393379</td>\n",
       "    </tr>\n",
       "  </tbody>\n",
       "</table>\n",
       "</div>"
      ],
      "text/plain": [
       "   energy  events      sigma\n",
       "0   105.0  4017.0  63.379808\n",
       "1   106.0  3763.0  61.343296\n",
       "2   107.0  3534.0  59.447456\n",
       "3   108.0  3531.0  59.422218\n",
       "4   109.0  3294.0  57.393379"
      ]
     },
     "execution_count": 1,
     "metadata": {},
     "output_type": "execute_result"
    }
   ],
   "source": [
    "import pandas as pd\n",
    "\n",
    "data = pd.read_csv(\"./data/higgs-gg.csv\")\n",
    "data.head()"
   ]
  },
  {
   "cell_type": "markdown",
   "metadata": {
    "tags": [
     "correction"
    ]
   },
   "source": [
    "On représente le nombre d'événements di-photons en fonction de la masse invariante/énergie du système"
   ]
  },
  {
   "cell_type": "code",
   "execution_count": 2,
   "metadata": {
    "tags": [
     "correction"
    ]
   },
   "outputs": [
    {
     "data": {
      "image/png": "[encoded data removed]",
      "text/plain": [
       "<Figure size 432x288 with 1 Axes>"
      ]
     },
     "metadata": {
      "needs_background": "light"
     },
     "output_type": "display_data"
    }
   ],
   "source": [
    "import matplotlib.pyplot as plt\n",
    "\n",
    "x, y, yerr = data.energy, data.events, data.sigma\n",
    "plt.errorbar(x, y, yerr=yerr, fmt=\".k\", label=\"ATLAS data\")\n",
    "plt.ylabel(r\"Nombre d'événements $H\\to\\gamma\\gamma$\")\n",
    "plt.xlabel(r\"$m_{\\gamma\\gamma}$ [GeV]\");"
   ]
  },
  {
   "cell_type": "markdown",
   "metadata": {},
   "source": [
    "- Pour décrire le bruit de fond, on considère un modèle basé sur un polynome de degré 4. Ajuster ce modèle aux données étant donné les incertitudes. Calculer la valeur du $\\chi^2$ où\n",
    "\n",
    "$$\n",
    "\\chi^2=\\sum_i\\frac{\\left(y_i-y_\\text{modèle}(x_i)\\right)^2}{\\sigma_{y_i}^2}\n",
    "$$\n",
    "  \n",
    "  et la diviser par le nombre de degrés de liberté qui correspond au nombre de points expérimentaux moins le nombre de paramètres du modèle. Pour information, une valeur de $\\chi^2$/ndof voisine de 1 démontre l'adéquation statistique entre données et modèle."
   ]
  },
  {
   "cell_type": "markdown",
   "metadata": {
    "tags": [
     "correction"
    ]
   },
   "source": [
    "On définit un modèle de bruit de fond sur la base d'une fonction polynomiale d'ordre 4."
   ]
  },
  {
   "cell_type": "code",
   "execution_count": 3,
   "metadata": {
    "tags": [
     "correction"
    ]
   },
   "outputs": [],
   "source": [
    "import numpy as np\n",
    "\n",
    "\n",
    "def model(x, *parameters):\n",
    "    y = 0.0\n",
    "    for i, p in enumerate(parameters):\n",
    "        y += p * np.power(x, i)\n",
    "    return y"
   ]
  },
  {
   "cell_type": "markdown",
   "metadata": {
    "tags": [
     "correction"
    ]
   },
   "source": [
    "On ajuste finalement les données à ce modèle étant donné les barres d'erreurs associées à l'aide de la fonction `curve_fit`"
   ]
  },
  {
   "cell_type": "code",
   "execution_count": 4,
   "metadata": {
    "tags": [
     "correction"
    ]
   },
   "outputs": [
    {
     "data": {
      "text/plain": [
       "array([ 1.84606718e+05, -4.89818994e+03,  5.01952231e+01, -2.32885669e-01,\n",
       "        4.09908363e-04])"
      ]
     },
     "execution_count": 4,
     "metadata": {},
     "output_type": "execute_result"
    }
   ],
   "source": [
    "nparams = 5\n",
    "from scipy.optimize import curve_fit\n",
    "\n",
    "popt, pcov = curve_fit(model, x, y, sigma=yerr, p0=np.full(nparams, 1.0))\n",
    "popt"
   ]
  },
  {
   "cell_type": "code",
   "execution_count": 5,
   "metadata": {
    "tags": [
     "correction"
    ]
   },
   "outputs": [
    {
     "data": {
      "image/png": "[encoded data removed]",
      "text/plain": [
       "<Figure size 432x288 with 1 Axes>"
      ]
     },
     "metadata": {
      "needs_background": "light"
     },
     "output_type": "display_data"
    }
   ],
   "source": [
    "plt.errorbar(x, y, yerr=yerr, fmt=\".k\", label=\"ATLAS data\")\n",
    "xmodel = np.linspace(105, 160, 100)\n",
    "plt.plot(xmodel, model(xmodel, *popt), \"-r\", label=\"modèle\")\n",
    "plt.ylabel(r\"Nombre d'événements $H\\to\\gamma\\gamma$\")\n",
    "plt.xlabel(r\"$m_{\\gamma\\gamma}$ [GeV]\")\n",
    "chi2 = np.sum((y - model(x, *popt)) ** 2 / yerr ** 2)\n",
    "plt.legend(title=r\"$\\chi2$/ndf = {:.2f}\".format(chi2 / (len(y) - nparams)));"
   ]
  },
  {
   "cell_type": "markdown",
   "metadata": {},
   "source": [
    "- Représenter dans une sous figure, la différence entre le modèle et les données puis normaliser cette différence par rapport à l'erreur sur chacun des points expérimentaux. Une découverte en physique des particules est établie lorsque le nombre d'écart-type $\\sigma$ entre données expérimentales et modèle est supérieur à 5. Isoler graphiquement les points expérimentaux pour lesquels la déviation est supérieure à 3$\\sigma$. Déterminer enfin la valeur maximale de cette déviation en nombre de $\\sigma$ et affirmer ou non avoir découvert le boson de Higgs. Le cas échéant, donner la masse de cette particule."
   ]
  },
  {
   "cell_type": "code",
   "execution_count": 7,
   "metadata": {
    "tags": [
     "correction"
    ]
   },
   "outputs": [
    {
     "name": "stdout",
     "output_type": "stream",
     "text": [
      "Masse du boson de Higgs = 126.0 GeV\n",
      "Paramètres du model de bruit de fond: [ 5.86045667e+04 -1.05618798e+03  6.54130270e+00 -1.37901205e-02]\n"
     ]
    },
    {
     "data": {
      "image/png": "[encoded data removed]",
      "text/plain": [
       "<Figure size 576x432 with 2 Axes>"
      ]
     },
     "metadata": {
      "needs_background": "light"
     },
     "output_type": "display_data"
    }
   ],
   "source": [
    "grid = plt.GridSpec(4, 1, hspace=0, wspace=0)\n",
    "\n",
    "main = plt.subplot(grid[0:3], xticklabels=[])\n",
    "main.errorbar(x, y, yerr=yerr, fmt=\".k\", label=\"ATLAS data\")\n",
    "main.set_ylabel(r\"Nombre d'événements $H\\to\\gamma\\gamma$\")\n",
    "\n",
    "popt, pcov = curve_fit(model, x, y, sigma=yerr, p0=np.full(4, 1.0))\n",
    "xmodel = np.linspace(105, 160, 100)\n",
    "main.plot(xmodel, model(xmodel, *popt), \"-r\", label=\"modèle polynomial\")\n",
    "\n",
    "# Plot deviation\n",
    "sub = plt.subplot(grid[3])\n",
    "dev = (y - model(x, *popt)) / yerr\n",
    "sub.errorbar(x, dev, fmt=\".k\")\n",
    "sub.set_ylabel(r\"$\\frac{y-y_\\mathrm{modèle}}{\\sigma}$ [$\\sigma$]\")\n",
    "sub.set_xlabel(r\"$m_{\\gamma\\gamma}$ [GeV]\")\n",
    "\n",
    "main.legend()\n",
    "\n",
    "mask = dev > 3\n",
    "sub.scatter(x[mask], dev[mask], edgecolors=\"red\", c=\"none\", s=100)\n",
    "\n",
    "print(\"Masse du boson de Higgs = {} GeV\".format(*x[mask].values))\n",
    "print(\"Paramètres du model de bruit de fond: {}\".format(popt))"
   ]
  },
  {
   "cell_type": "markdown",
   "metadata": {},
   "source": [
    "---"
   ]
  },
  {
   "cell_type": "markdown",
   "metadata": {},
   "source": [
    "## Équations de Bessel\n",
    "\n",
    "L'équation différentielle de Bessel intervient dans nombre de problèmes physiques présentant une symétrie cylindrique parmi lesquels :\n",
    "\n",
    "- propagation d'ondes électromagnétiques ou d'ondes acoustiques dans un guide cylindrique (*cf.* cours & TD EM L3),\n",
    "- phénomènes de diffraction par une fente circulaire,\n",
    "- étude de la modulation de fréquence en télécommunications,\n",
    "\n",
    "L'équation différentielle de Bessel a pour expression\n",
    "\n",
    "$$\n",
    "\\renewcommand{\\d}{\\text{d}}\n",
    "x^2\\frac{\\d^2y}{\\d x^2}+x\\frac{\\d y}{\\d x}+(x^2-\\alpha^2)y=0\n",
    "$$\n",
    "\n",
    "où $\\alpha$ peut être un nombre réel ou complexe mais, le plus souvent, est un nombre entier naturel correspondant à l'ordre de la fonction. Les solutions de cette équation sont les fonctions de Bessel de première espèce $J_\\alpha(x)$, définies en zéro et les fonctions de Bessel de seconde espèce $Y_\\alpha(x)$. Dans cet exercice, nous nous intéresserons uniquement à la fonction de Bessel $J_0(x)$."
   ]
  },
  {
   "cell_type": "markdown",
   "metadata": {},
   "source": [
    "- À l'aide du module `scipy.integrate` et de sa fonction `solve_ivp`, déterminer numériquement la solution de l'équation de Bessel d'ordre 0."
   ]
  },
  {
   "cell_type": "code",
   "execution_count": 8,
   "metadata": {
    "tags": [
     "correction"
    ]
   },
   "outputs": [],
   "source": [
    "import matplotlib.pyplot as plt\n",
    "import numpy as np\n",
    "\n",
    "\n",
    "def dy(x, y, nu):\n",
    "    y, dydx = y[0], y[1]\n",
    "    d2ydx2 = (-x * dydx - (x ** 2 - nu ** 2) * y) / x ** 2\n",
    "    return dydx, d2ydx2\n",
    "\n",
    "\n",
    "xmin, xmax = 1e-15, 10\n",
    "x = np.arange(xmin, xmax, 0.1)\n",
    "from scipy.integrate import solve_ivp\n",
    "\n",
    "sol = solve_ivp(dy, t_span=[xmin, xmax], y0=[1, 0], t_eval=x, args=(0,))"
   ]
  },
  {
   "cell_type": "markdown",
   "metadata": {},
   "source": [
    "-  Représenter cette solution ainsi que la fonction analytique de Bessel $J_0(x)$ puis, dans une sous-figure, représenter la différence entre chaque fonction"
   ]
  },
  {
   "cell_type": "code",
   "execution_count": 9,
   "metadata": {
    "tags": [
     "correction"
    ]
   },
   "outputs": [
    {
     "data": {
      "image/png": "[encoded data removed]",
      "text/plain": [
       "<Figure size 576x432 with 2 Axes>"
      ]
     },
     "metadata": {
      "needs_background": "light"
     },
     "output_type": "display_data"
    }
   ],
   "source": [
    "from scipy.special import jn, jvp\n",
    "\n",
    "grid = plt.GridSpec(4, 1, hspace=0)\n",
    "main = plt.subplot(grid[0:3], xticklabels=[])\n",
    "main.plot(sol.t, sol.y[0], \".k\", label=\"numérique\")\n",
    "main.plot(x, jn(0, x), \"-r\", label=\"analytique\")\n",
    "main.set_ylabel(r\"$J_0(x)$\")\n",
    "main.legend()\n",
    "\n",
    "dev = plt.subplot(grid[-1])\n",
    "dev.plot(sol.t, jn(0, sol.t) - sol.y[0], \".k\")\n",
    "dev.set_xlabel(r\"$x$\")\n",
    "dev.set_ylabel(r\"$\\Delta J_0(x)$\");"
   ]
  }
 ],
 "metadata": {
  "kernelspec": {
   "display_name": "Python 3 (ipykernel)",
   "language": "python",
   "name": "python3"
  },
  "language_info": {
   "codemirror_mode": {
    "name": "ipython",
    "version": 3
   },
   "file_extension": ".py",
   "mimetype": "text/x-python",
   "name": "python",
   "nbconvert_exporter": "python",
   "pygments_lexer": "ipython3",
   "version": "3.10.1"
  },
  "toc-autonumbering": false,
  "widgets": {
   "application/vnd.jupyter.widget-state+json": {
    "state": {},
    "version_major": 2,
    "version_minor": 0
   }
  }
 },
 "nbformat": 4,
 "nbformat_minor": 4
}
