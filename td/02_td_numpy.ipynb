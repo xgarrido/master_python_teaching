{
 "cells": [
  {
   "cell_type": "markdown",
   "metadata": {},
   "source": [
    "# Librairies `numpy` & `pandas` "
   ]
  },
  {
   "cell_type": "markdown",
   "metadata": {},
   "source": [
    "<div class=\"alert alert-block alert-danger\">\n",
    "    <b>Si vous utilisez ce notebook via https://jupytercloud.lal.in2p3.fr ou mybinder, pensez à télécharger votre fichier à la fin de la séance afin de conserver une trace de votre travail !</b>\n",
    "</div>"
   ]
  },
  {
   "cell_type": "markdown",
   "metadata": {},
   "source": [
    "## Création/manipulation de tableaux"
   ]
  },
  {
   "cell_type": "markdown",
   "metadata": {},
   "source": [
    "- Créer un vecteur contenant les nombres entiers de 0 à 9 puis n'afficher que les valeurs paires de ce vecteur. Remplacer ensuite ces valeurs paires par -1.\n",
    "\n",
    "- Créer un vecteur de 20 valeurs flottantes réparties uniformément entre 1 et 50. À l'aide de la fonction `where` de `numpy`, remplacer les valeurs inférieures à 10 par 10 et celle supérieure à 30 par 30.\n",
    "\n",
    "- Créer les matrices suivantes en respectant le type et en 3 opérations maximum\n",
    "    \\begin{align*}\n",
    "      \\begin{bmatrix}\n",
    "        1&1&1&1\\\\\n",
    "        1&1&1&1\\\\\n",
    "        1&1&1&2\\\\\n",
    "        1&6&1&1\\\\\n",
    "      \\end{bmatrix}&\\qquad\n",
    "      \\begin{bmatrix}\n",
    "        0.& 0.& 0.& 0.& 0.\\\\\n",
    "        2.& 0.& 0.& 0.& 0.\\\\\n",
    "        0.& 3.& 0.& 0.& 0.\\\\\n",
    "        0.& 0.& 4.& 0.& 0.\\\\\n",
    "        0.& 0.& 0.& 5.& 0.\\\\\n",
    "        0.& 0.& 0.& 0.& 6.\\\\\n",
    "      \\end{bmatrix}\n",
    "    \\end{align*}\n",
    "  Dans le second cas, on pourra s'aider de la méthode `diag`\n",
    "\n",
    "- En utilisant la méthode `tile`, reproduire la matrice suivante à l'aide d'une seule commande\n",
    "    \\begin{bmatrix}\n",
    "        4& 3& 4& 3& 4& 3\\\\\n",
    "        2& 1& 2& 1& 2& 1\\\\\n",
    "        4& 3& 4& 3& 4& 3\\\\\n",
    "        2& 1& 2& 1& 2& 1\\\\\n",
    "    \\end{bmatrix}"
   ]
  },
  {
   "cell_type": "markdown",
   "metadata": {},
   "source": [
    "---"
   ]
  },
  {
   "cell_type": "markdown",
   "metadata": {},
   "source": [
    "## Sale temps sur Seattle\n",
    "\n",
    "- Télécharger le fichier [`seattle2014.csv`](https://raw.githubusercontent.com/xgarrido/master_python_teaching/master/td/data/seattle2014.csv) qui contient pour chaque jour de l'année 2014 (colonne 1), la hauteur des précipitations exprimé en dixième de millimètres (colonne 2) ainsi que les températures maximale (colonne 3) et minimale (colonne 4), exprimées en dixième de degrés Celsius, à Seattle.\n",
    "\n",
    "- Charger l'ensemble des données dans un tableau `numpy` en prenant bien garde au caractère délimitant chaque champ puis, après avoir converti la hauteur des précipitations en centimètres et les températures en degré Celsius, calculer les valeurs suivantes sur chacune des données du fichier (hauteur des précipitations, $T_\\text{min}$ et $T_\\text{max}$) :\n",
    "\n",
    "  1. moyenne, médiane et écart type\n",
    "  2. valeurs minimale et maximale\n",
    "  3. les quantiles à 25% et 75%\n",
    "\n",
    "\n",
    "- Afficher les valeurs ci-dessus pour la période estivale\n",
    "\n",
    "- Calculer la hauteur totale d'eau tombée à Seattle en 2014\n",
    "\n",
    "- Dénombrer le nombre total de jours dans l'année pendant lesquels il a plu à Seattle et déterminer combien de ces jours étaient pairs"
   ]
  },
  {
   "cell_type": "markdown",
   "metadata": {},
   "source": [
    "---"
   ]
  },
  {
   "cell_type": "markdown",
   "metadata": {},
   "source": [
    "## Manipulation d'images\n",
    "\n",
    "Une image n'est rien d'autre qu'une matrice où chaque pixel contient une information colorimétrique. La notion de tableau *à la* `numpy` est donc parfaitement adaptée à la représentation de ces objets.\n",
    "\n",
    "En fonction du système colorimétrique choisi, chaque pixel peut être :\n",
    "- un nombre entier compris entre 0 et 255 ou un nombre flottant compris entre 0.0 et 1.0 quantifiant  le niveau de gris du pixel,\n",
    "- un triplet de valeurs $(R, V, B)$ soit entières (entre 0 et 255) soit flottantes (entre 0.0 et 1.0) donnant respectivement le niveau de rouge, vert et bleu du pixel,\n",
    "- un triplet de valeurs ($\\ell, \\alpha, \\beta$) correspondant à la luminosité $\\ell$, l'opposition bleu-jaune $\\alpha$ et l'opposition vert-rouge $\\beta$,\n",
    "- ...\n",
    "\n",
    "Les opérations mathématiques sur des tableaux `numpy` permettent ainsi de changer d'espaces colorimétriques en minimisant le nombre d'opérations. De même, la sélection par masque permet d'appliquer des transformations à des sous-espaces de l'image.\n",
    "\n",
    "Dans la suite de l'exercice, on s'aidera des fonctions intégrées à la librairie `matplotlib` pour lire et pour représenter une image au format `png` ou `jpeg`. On utilisera en particulier les fonctions `imread` et `imshow` pour lire puis afficher l'image `matplotlib` comme suit\n",
    "```python\n",
    "  import matplotlib.pyplot as plt\n",
    "  img = plt.imread(\"mon_image.png\")\n",
    "  plt.imshow(img)\n",
    "```\n",
    "\n",
    "### Changement d'espace colorimétrique\n",
    "\n",
    "1. Créer une image de 500x500 pixels contenant du bruit blanc *i.e.* des valeurs aléatoirement réparties entre 0.0 et 1.0. Afficher l'image en utilisant l'échelle de couleur `cmap=\"gray\"` (à passer en argument de la fonction `imshow`).\n",
    "\n",
    "2. Charger l'image [`balloon.png`](https://raw.githubusercontent.com/xgarrido/master_python_teaching/master/td/data/balloon.png) puis afficher la. Quelle est la taille de l'image ? Dans quel espace colorimétrique est-elle représentée ?\n",
    "\n",
    "3. La calcul de la luminance `Y` d'un pixel (également appelé niveau de gris) se fait, à partir du système colorimétrique $(R, V, B)$, par la transformation \n",
    "\n",
    "    $$Y = 0.2126\\times R+0.7152\\times V+0.0722\\times B$$\n",
    "    \n",
    "    Convertir l'image initiale en niveau de gris et l'afficher."
   ]
  },
  {
   "cell_type": "markdown",
   "metadata": {},
   "source": [
    "### *Slices & masks*\n",
    "\n",
    "1. Dans l'espace $(R, V, B)$, créer une image 600x600 pixels initialement colorée en noire.\n",
    "\n",
    "2. Colorer en rouge et vert les rectangles représentés sur la figure de gauche ci-dessous.\n",
    "\n",
    "3. En repartant d'une image complètement noire, colorer les disques représentés sur la figure de droite ci-dessous. *Indication : pour un centre de dique donné, on construira un tableau contenant, pour chaque pixel, la distance au centre de ce disque (on pourra s'aider de l'objet `ogrid` de `numpy`). On masquera par la suite les distances supérieures au rayon $R=150$, masques dont on se servira pour assigner les couleurs désirées.*\n",
    "\n",
    "<center><img width=\"50%\" src=\"https://raw.githubusercontent.com/xgarrido/master_python_teaching/master/td/figures/rgb.png\"/></center>"
   ]
  },
  {
   "cell_type": "markdown",
   "metadata": {},
   "source": [
    "### *Prologue:* Transfert de couleurs\n",
    "\n",
    "<div class=\"alert alert-block alert-info\">\n",
    "Un des projets informatiques en langage C++ (Magistère 1) traite du transfert de couleurs. Cette dernière partie est donc facultative et peut être sautée en première lecture.\n",
    "</div>\n",
    "\n",
    "La technique de \"Transfert de couleurs\" consiste à transférer les propriétés colorimétriques d'une image source à une image cible. Pour ce faire, on considère l'image [`source.png`](https://raw.githubusercontent.com/xgarrido/master_python_teaching/master/td/data/source.png) à laquelle on souhaite appliquer les propriétés statistiques de couleurs de l'image [`cible.png`](https://raw.githubusercontent.com/xgarrido/master_python_teaching/master/td/data/cible.png). Il s'agit, dans un premier temps, de transformer l'espace de couleur $(R, V, B)$ des deux images vers\n",
    "l'espace colorimétrique $(\\ell, \\alpha, \\beta)$. On applique ainsi les transformations suivantes\n",
    "\n",
    "\\begin{align*}\n",
    "\\begin{pmatrix}L\\\\M\\\\S\\end{pmatrix}&=\n",
    "\\begin{pmatrix}\n",
    "0.3811&0.5783&0.0402\\\\\n",
    "0.1967&0.7244&0.0782\\\\\n",
    "0.0241&0.1288&0.8444\n",
    "\\end{pmatrix}\n",
    "\\begin{pmatrix}R\\\\V\\\\B\\end{pmatrix}\\\\\n",
    "\\begin{pmatrix}\\ell\\\\\\alpha\\\\\\beta\\end{pmatrix}&=\n",
    "\\begin{pmatrix}\n",
    "1/\\sqrt{3}&0&0\\\\\n",
    "0&1/\\sqrt{6}&0\\\\\n",
    "0&0&1/\\sqrt{2}\n",
    "\\end{pmatrix}\n",
    "\\begin{pmatrix}\n",
    "1&1&1\\\\\n",
    "1&1&-2\\\\\n",
    "1&-1&0\n",
    "\\end{pmatrix}\n",
    "\\begin{pmatrix}\\ln L\\\\\\ln M\\\\\\ln S\\end{pmatrix}\n",
    "\\end{align*}\n",
    "\n",
    "Une fois dans l'espace $(\\ell, \\alpha, \\beta)$, il s'agit de transférer les propriétés statistiques, moyenne et écart-type, de chaque canal soit\n",
    "\n",
    "\\begin{align*}\n",
    "\\ell_t&=\\frac{\\sigma^\\ell_c}{\\sigma^\\ell_s}\\left(\\ell_s-\\langle\\ell_s\\rangle\\right)+\\langle\\ell_c\\rangle\\\\\n",
    "\\alpha_t&=\\frac{\\sigma^\\alpha_c}{\\sigma^\\alpha_s}\\left(\\alpha_s-\\langle\\alpha_s\\rangle\\right)+\\langle\\alpha_c\\rangle\\\\\n",
    "\\beta_t&=\\frac{\\sigma^\\beta_c}{\\sigma^\\beta_s}\\left(\\beta_s-\\langle\\beta_s\\rangle\\right)+\\langle\\beta_c\\rangle\n",
    "\\end{align*}\n",
    "\n",
    "où les indices $t, s, c$ correspondent respectivement à l'image \"transférée\", source et cible.\n",
    "\n",
    "Finalement, il convient de revenir à l'espace colorimétrique $(R, V, B)$ pour l'image \"transférée\" *via* les transformations inverses\n",
    "\n",
    "\\begin{align*}\n",
    "   \\begin{pmatrix}L\\\\M\\\\S\\end{pmatrix}&=\n",
    "     \\begin{pmatrix}\n",
    "       1&1&1\\\\\n",
    "       1&1&-1\\\\\n",
    "       1&-2&0\n",
    "     \\end{pmatrix}\n",
    "     \\begin{pmatrix}\n",
    "     1/\\sqrt{3}&0&0\\\\\n",
    "     0&1/\\sqrt{6}&0\\\\\n",
    "     0&0&1/\\sqrt{2}\n",
    "     \\end{pmatrix}\n",
    "     \\begin{pmatrix}\\ell\\\\\\alpha\\\\\\beta\\end{pmatrix}\\\\\n",
    "   \\begin{pmatrix}R\\\\V\\\\B\\end{pmatrix}&=\\begin{pmatrix}\n",
    "     4.4679&-3.5873&0.1193\\\\\n",
    "     -1.2186&2.3809&-0.1624\\\\\n",
    "     0.0497&-0.2439&1.2045\n",
    "     \\end{pmatrix}\\begin{pmatrix}\\exp L\\\\\\exp M\\\\\\exp S\\end{pmatrix}\\\\\n",
    "\\end{align*}"
   ]
  }
 ],
 "metadata": {
  "kernelspec": {
   "display_name": "Python 3",
   "language": "python",
   "name": "python3"
  },
  "language_info": {
   "codemirror_mode": {
    "name": "ipython",
    "version": 3
   },
   "file_extension": ".py",
   "mimetype": "text/x-python",
   "name": "python",
   "nbconvert_exporter": "python",
   "pygments_lexer": "ipython3",
   "version": "3.8.6"
  },
  "widgets": {
   "application/vnd.jupyter.widget-state+json": {
    "state": {},
    "version_major": 2,
    "version_minor": 0
   }
  }
 },
 "nbformat": 4,
 "nbformat_minor": 4
}
