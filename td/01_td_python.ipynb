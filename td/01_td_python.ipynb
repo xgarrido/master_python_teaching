{
 "cells": [
  {
   "cell_type": "markdown",
   "metadata": {},
   "source": [
    "# Python et ses fondamentaux"
   ]
  },
  {
   "cell_type": "markdown",
   "metadata": {},
   "source": [
    "<div class=\"alert alert-block alert-danger\">\n",
    "    <b>Si vous utilisez ce notebook via https://jupytercloud.lal.in2p3.fr ou mybinder, pensez à télécharger votre fichier à la fin de la séance afin de conserver une trace de votre travail !</b>\n",
    "</div>"
   ]
  },
  {
   "cell_type": "markdown",
   "metadata": {},
   "source": [
    "## Calculs simples avec des nombres complexes"
   ]
  },
  {
   "cell_type": "markdown",
   "metadata": {},
   "source": [
    "1. Définir une première variable `x1` égale à 10 et une seconde `x2` égale à 10.0. Afficher le statut des variables"
   ]
  },
  {
   "cell_type": "code",
   "execution_count": null,
   "metadata": {
    "tags": [
     "reponse"
    ]
   },
   "outputs": [],
   "source": []
  },
  {
   "cell_type": "code",
   "execution_count": null,
   "metadata": {
    "tags": [
     "correction"
    ]
   },
   "outputs": [],
   "source": [
    "x1 = 10\n",
    "x2 = 10.0\n",
    "type(x1), type(x2)"
   ]
  },
  {
   "cell_type": "markdown",
   "metadata": {},
   "source": [
    "2. Afficher la partie réelle puis la partie imaginaire de `x1`. Afficher la taille en bits de `x1`. Lors des différentes opérations, on pourra se servir de l'auto-complétion et de la commande d'aide `?` pour accéder à la documentation de chaque commande"
   ]
  },
  {
   "cell_type": "code",
   "execution_count": null,
   "metadata": {
    "tags": [
     "reponse"
    ]
   },
   "outputs": [],
   "source": []
  },
  {
   "cell_type": "code",
   "execution_count": 2,
   "metadata": {
    "tags": [
     "correction"
    ]
   },
   "outputs": [
    {
     "data": {
      "text/plain": [
       "(10, 0, 4)"
      ]
     },
     "execution_count": 2,
     "metadata": {},
     "output_type": "execute_result"
    }
   ],
   "source": [
    "x1.real, x1.imag, x1.bit_length()"
   ]
  },
  {
   "cell_type": "markdown",
   "metadata": {},
   "source": [
    "3. Initialiser deux nombres complexes `z1` et `z2` et réaliser un certain nombre d'opérations mathématiques telles qu'addition, multiplication... entre ces deux nombres. Tester également l'élévation à une puissance de ces nombres complexes."
   ]
  },
  {
   "cell_type": "code",
   "execution_count": null,
   "metadata": {
    "tags": [
     "reponse"
    ]
   },
   "outputs": [],
   "source": []
  },
  {
   "cell_type": "code",
   "execution_count": 3,
   "metadata": {
    "tags": [
     "correction"
    ]
   },
   "outputs": [
    {
     "data": {
      "text/plain": [
       "((6+4j), (-2+2j), (5+14j), (0.6470588235294118+0.5882352941176471j), (-5+12j))"
      ]
     },
     "execution_count": 3,
     "metadata": {},
     "output_type": "execute_result"
    }
   ],
   "source": [
    "z1, z2 = 2 + 3j, 4 + 1j\n",
    "\n",
    "z1 + z2, z1 - z2, z1 * z2, z1 / z2, z1 ** 2"
   ]
  },
  {
   "cell_type": "markdown",
   "metadata": {},
   "source": [
    "4. Calculer le module et l'argument de chacun de ces nombres complexes. On s'aidera pour cela de la librairie mathématique `math` de Python déjà présente dans le système."
   ]
  },
  {
   "cell_type": "code",
   "execution_count": null,
   "metadata": {
    "tags": [
     "reponse"
    ]
   },
   "outputs": [],
   "source": []
  },
  {
   "cell_type": "code",
   "execution_count": 4,
   "metadata": {
    "tags": [
     "correction"
    ]
   },
   "outputs": [
    {
     "data": {
      "text/plain": [
       "(3.605551275463989, 0.982793723247329)"
      ]
     },
     "execution_count": 4,
     "metadata": {},
     "output_type": "execute_result"
    }
   ],
   "source": [
    "import math\n",
    "\n",
    "module = math.sqrt(z1.real ** 2 + z1.imag ** 2)\n",
    "argument = math.atan(z1.imag / z1.real)\n",
    "\n",
    "module, argument"
   ]
  },
  {
   "cell_type": "markdown",
   "metadata": {},
   "source": [
    "5. Déterminer à présent le module et l'argument en utilisant la librairie mathématique `cmath` dédiée au calcul sur les nombres complexes et également présente par défaut dans Python."
   ]
  },
  {
   "cell_type": "code",
   "execution_count": null,
   "metadata": {
    "tags": [
     "reponse"
    ]
   },
   "outputs": [],
   "source": []
  },
  {
   "cell_type": "code",
   "execution_count": 5,
   "metadata": {
    "tags": [
     "correction"
    ]
   },
   "outputs": [
    {
     "data": {
      "text/plain": [
       "(3.605551275463989, 0.982793723247329)"
      ]
     },
     "execution_count": 5,
     "metadata": {},
     "output_type": "execute_result"
    }
   ],
   "source": [
    "import cmath\n",
    "\n",
    "cmath.polar(z1)"
   ]
  },
  {
   "cell_type": "markdown",
   "metadata": {},
   "source": [
    "## Structure conditionnelle, boucles et autres réjouissances"
   ]
  },
  {
   "cell_type": "markdown",
   "metadata": {},
   "source": [
    "1. En fonction d'une valeur entière saisie par l'utilisateur (on utilisera à cette fin la fonction `input` de Python et on prendra bien garde à convertir le résultat en entier), afficher l'un des messages suivants \n",
    "\n",
    "   - Ce nombre est pair\n",
    "   - Ce nombre est impair, mais est multiple de 3\n",
    "   - Ce nombre n'est ni pair ni multiple de 3"
   ]
  },
  {
   "cell_type": "code",
   "execution_count": null,
   "metadata": {
    "tags": [
     "reponse"
    ]
   },
   "outputs": [],
   "source": []
  },
  {
   "cell_type": "code",
   "execution_count": 6,
   "metadata": {
    "tags": [
     "reponse"
    ]
   },
   "outputs": [
    {
     "name": "stdin",
     "output_type": "stream",
     "text": [
      "Saisissez un entier ?  666\n"
     ]
    },
    {
     "name": "stdout",
     "output_type": "stream",
     "text": [
      "Ce nombre est pair\n"
     ]
    }
   ],
   "source": [
    "N = int(input(\"Saisissez un entier ? \"))\n",
    "\n",
    "if N % 2 == 0:\n",
    "    print(\"Ce nombre est pair\")\n",
    "elif N % 3 == 0:\n",
    "    print(\"Ce nombre est impair, mais est multiple de 3\")\n",
    "else:\n",
    "    print(\"Ce nombre n'est ni pair ni multiple de 3\")"
   ]
  },
  {
   "cell_type": "markdown",
   "metadata": {},
   "source": [
    "2. Dénombrer le nombre de voyelles dans une phrase que l'utilisateur saisira."
   ]
  },
  {
   "cell_type": "code",
   "execution_count": null,
   "metadata": {
    "tags": [
     "reponse"
    ]
   },
   "outputs": [],
   "source": []
  },
  {
   "cell_type": "code",
   "execution_count": 7,
   "metadata": {
    "tags": [
     "correction"
    ]
   },
   "outputs": [
    {
     "name": "stdin",
     "output_type": "stream",
     "text": [
      "Quelle est la phrase ?  Noë est méchant, si Noë était un médicament, ce serait un suppositoire\n"
     ]
    },
    {
     "name": "stdout",
     "output_type": "stream",
     "text": [
      "Nombre de voyelles = 27\n"
     ]
    }
   ],
   "source": [
    "voyelles = \"aàâeéèëioôuùy\"\n",
    "phrase = input(\"Quelle est la phrase ? \")\n",
    "count = 0\n",
    "for c in phrase:\n",
    "    if c in voyelles:\n",
    "        count += 1\n",
    "print(\"Nombre de voyelles =\", count)"
   ]
  },
  {
   "cell_type": "markdown",
   "metadata": {},
   "source": [
    "3. Projet Euler n°[1](https://projecteuler.net/problem=1): Calculer la somme des entiers divisibles par 3 ou par 5 dans l'intervalle $[0,N[$ où $N$ sera fourni par l'utilisateur."
   ]
  },
  {
   "cell_type": "code",
   "execution_count": null,
   "metadata": {
    "tags": [
     "reponse"
    ]
   },
   "outputs": [],
   "source": []
  },
  {
   "cell_type": "code",
   "execution_count": 8,
   "metadata": {
    "tags": [
     "correction"
    ]
   },
   "outputs": [
    {
     "name": "stdin",
     "output_type": "stream",
     "text": [
      "Quelle est la valeur de N ?  666\n"
     ]
    },
    {
     "name": "stdout",
     "output_type": "stream",
     "text": [
      "Somme = 103298\n"
     ]
    }
   ],
   "source": [
    "N = int(input(\"Quelle est la valeur de N ? \"))\n",
    "somme = 0\n",
    "for i in range(0, N):\n",
    "    if i % 3 == 0 or i % 5 == 0:\n",
    "        somme += i\n",
    "print(\"Somme =\", somme)"
   ]
  },
  {
   "cell_type": "markdown",
   "metadata": {},
   "source": [
    "4. Projet Euler n°[16](https://projecteuler.net/problem=16): Donner la somme des chiffres de la représentation décimale de $2^N$ où $N$ est un entier naturel fourni par l'utilisateur. Faire de même avec $N!$ (Projet Euler n°[20](https://projecteuler.net/problem=20))."
   ]
  },
  {
   "cell_type": "code",
   "execution_count": null,
   "metadata": {
    "tags": [
     "reponse"
    ]
   },
   "outputs": [],
   "source": []
  },
  {
   "cell_type": "code",
   "execution_count": 9,
   "metadata": {
    "tags": [
     "correction"
    ]
   },
   "outputs": [
    {
     "name": "stdin",
     "output_type": "stream",
     "text": [
      "Quelle est la valeur de N ?  666\n"
     ]
    },
    {
     "name": "stdout",
     "output_type": "stream",
     "text": [
      "Somme = 856\n"
     ]
    }
   ],
   "source": [
    "N = int(input(\"Quelle est la valeur de N ? \"))\n",
    "somme = 0\n",
    "for i in str(2 ** N):\n",
    "    somme += int(i)\n",
    "print(\"Somme =\", somme)"
   ]
  },
  {
   "cell_type": "code",
   "execution_count": 10,
   "metadata": {},
   "outputs": [
    {
     "name": "stdout",
     "output_type": "stream",
     "text": [
      "Somme = 6327\n"
     ]
    }
   ],
   "source": [
    "import math\n",
    "\n",
    "somme = 0\n",
    "for i in str(math.factorial(N)):\n",
    "    somme += int(i)\n",
    "print(\"Somme =\", somme)"
   ]
  },
  {
   "cell_type": "markdown",
   "metadata": {},
   "source": [
    "5. La suite de Fibonacci est définie de la façon suivante\n",
    "    \\begin{align*}\n",
    "       \\mathcal{F}_1 &= 1 \\\\\n",
    "       \\mathcal{F}_2 &= 1 \\\\\n",
    "       ...\\\\\n",
    "       \\mathcal{F}_n &= \\mathcal{F}_{n-2}+\\mathcal{F}_{n-1}\n",
    "     \\end{align*}\n",
    "\n",
    "    1. Calculer le résultat de cette suite pour un ordre $n$ donné par l'utilisateur. On essaiera en particulier de tirer profit de l'affectation parallèle des variables dans Python.\n",
    "    2. Projet Euler n°[2](https://projecteuler.net/problem=2): Calculer la somme des termes de Fibonacci pairs jusqu'à une valeur $N$ donnée par l'utilisateur.\n",
    "    3. Projet Euler n°[25](https://projecteuler.net/problem=25): Déterminer l'indice $n$ du premier terme $\\mathcal{F}_n$ dont la valeur contient plus de 1000 chiffres."
   ]
  },
  {
   "cell_type": "code",
   "execution_count": null,
   "metadata": {
    "tags": [
     "reponse"
    ]
   },
   "outputs": [],
   "source": []
  },
  {
   "cell_type": "code",
   "execution_count": 11,
   "metadata": {
    "tags": [
     "correction"
    ]
   },
   "outputs": [
    {
     "name": "stdin",
     "output_type": "stream",
     "text": [
      "Quelle est la valeur de N ?  666\n"
     ]
    },
    {
     "name": "stdout",
     "output_type": "stream",
     "text": [
      "F(666) = 6859356963880484413875401302176431788073214234535725264860437720157972142108894511264898366145528622543082646626140527097739556699078708088\n"
     ]
    }
   ],
   "source": [
    "N = int(input(\"Quelle est la valeur de N ? \"))\n",
    "f = g = 1\n",
    "for i in range(0, N - 1):\n",
    "    f, g = g, f + g\n",
    "print(\"F({}) = {}\".format(N, f))"
   ]
  },
  {
   "cell_type": "code",
   "execution_count": 12,
   "metadata": {},
   "outputs": [
    {
     "name": "stdin",
     "output_type": "stream",
     "text": [
      "Quelle est la valeur de N ?  666\n"
     ]
    },
    {
     "name": "stdout",
     "output_type": "stream",
     "text": [
      "Somme = 798\n"
     ]
    }
   ],
   "source": [
    "N = int(input(\"Quelle est la valeur de N ? \"))\n",
    "f = g = 1\n",
    "somme = 0\n",
    "while f < N - 1:\n",
    "    if f % 2 == 0:\n",
    "        somme += f\n",
    "    f, g = g, f + g\n",
    "print(\"Somme =\", somme)"
   ]
  },
  {
   "cell_type": "code",
   "execution_count": 13,
   "metadata": {},
   "outputs": [
    {
     "name": "stdout",
     "output_type": "stream",
     "text": [
      "n = 4786\n"
     ]
    }
   ],
   "source": [
    "f = g = 1\n",
    "n = 0\n",
    "while f < 10 ** 1000:\n",
    "    f, g, n = g, f + g, n + 1\n",
    "print(\"n =\", n)"
   ]
  },
  {
   "cell_type": "markdown",
   "metadata": {},
   "source": [
    "6. La formule de Wallis permet de calculer la valeur de $\\pi$ *via* l'expression\n",
    "     \\begin{align*}\n",
    "       \\pi = 2\\prod_{n=1}^\\infty\\frac{4n^2}{4n^2-1}\n",
    "     \\end{align*}\n",
    "   Déterminer le nombre d'itérations $n$ nécessaires pour que la valeur de $\\pi$ soit correcte jusqu'à la 7<sup>ème</sup> décimale."
   ]
  },
  {
   "cell_type": "code",
   "execution_count": null,
   "metadata": {
    "tags": [
     "reponse"
    ]
   },
   "outputs": [],
   "source": []
  },
  {
   "cell_type": "code",
   "execution_count": 14,
   "metadata": {
    "tags": [
     "correction"
    ]
   },
   "outputs": [
    {
     "name": "stdout",
     "output_type": "stream",
     "text": [
      "pi = 3.1415925535897995 pour 7851419 itérations\n"
     ]
    }
   ],
   "source": [
    "import math\n",
    "\n",
    "i = p = 1\n",
    "\n",
    "while abs(2 * p - math.pi) > 1e-7:\n",
    "    p *= 4 * i ** 2 / (4 * i ** 2 - 1)\n",
    "    i += 1\n",
    "print(\"pi = {} pour {} itérations\".format(2 * p, i))"
   ]
  }
 ],
 "metadata": {
  "kernelspec": {
   "display_name": "Python 3",
   "language": "python",
   "name": "python3"
  },
  "language_info": {
   "codemirror_mode": {
    "name": "ipython",
    "version": 3
   },
   "file_extension": ".py",
   "mimetype": "text/x-python",
   "name": "python",
   "nbconvert_exporter": "python",
   "pygments_lexer": "ipython3",
   "version": "3.8.6"
  },
  "widgets": {
   "application/vnd.jupyter.widget-state+json": {
    "state": {},
    "version_major": 2,
    "version_minor": 0
   }
  }
 },
 "nbformat": 4,
 "nbformat_minor": 4
}
